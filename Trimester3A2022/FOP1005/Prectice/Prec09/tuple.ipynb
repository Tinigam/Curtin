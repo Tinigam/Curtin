{
 "cells": [
  {
   "cell_type": "code",
   "execution_count": 3,
   "id": "ccd26092",
   "metadata": {},
   "outputs": [
    {
     "name": "stdout",
     "output_type": "stream",
     "text": [
      "('spam', 'eggs', 42)\n",
      "(1, 4, 9, 16, 25)\n",
      "('yes', 'oui', 'ja', 'si')\n",
      "9\n",
      "(4, 9, 16, 25, 'yes', 'oui', 'ja')\n",
      "(1, 4, 9, 16, 25, 36, 49, 64, 81, 100)\n"
     ]
    }
   ],
   "source": [
    "tup1 = ('spam', 'eggs', 42)\n",
    "tup2 = (1, 4, 9, 16, 25 )\n",
    "tup3 = \"yes\", \"oui\", \"ja\", \"si\"\n",
    "print(tup1)\n",
    "print(tup2)\n",
    "print(tup3)\n",
    "\n",
    "tup4 = tup2 + tup3\n",
    "print(len(tup4))\n",
    "print(tup4[1:-1])\n",
    "tup5 = tuple(x * x for x in range(1,11))\n",
    "print(tup5)"
   ]
  },
  {
   "cell_type": "code",
   "execution_count": null,
   "id": "55ba1bdd",
   "metadata": {},
   "outputs": [],
   "source": []
  }
 ],
 "metadata": {
  "kernelspec": {
   "display_name": "Python 3.10.6 64-bit",
   "language": "python",
   "name": "python3"
  },
  "language_info": {
   "codemirror_mode": {
    "name": "ipython",
    "version": 3
   },
   "file_extension": ".py",
   "mimetype": "text/x-python",
   "name": "python",
   "nbconvert_exporter": "python",
   "pygments_lexer": "ipython3",
   "version": "3.10.6"
  },
  "vscode": {
   "interpreter": {
    "hash": "916dbcbb3f70747c44a77c7bcd40155683ae19c65e1c03b4aa3499c5328201f1"
   }
  }
 },
 "nbformat": 4,
 "nbformat_minor": 5
}
